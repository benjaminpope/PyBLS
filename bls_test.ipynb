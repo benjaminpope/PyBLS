{
 "metadata": {
  "name": "",
  "signature": "sha256:3d636aefb66aa68e3a8a2cba75b8ceddd4708c11482862eb5359d3f7bfcffb1f"
 },
 "nbformat": 3,
 "nbformat_minor": 0,
 "worksheets": [
  {
   "cells": [
    {
     "cell_type": "code",
     "collapsed": false,
     "input": [
      "import numpy as np \n",
      "import matplotlib.pyplot as plt\n",
      "import pyfits as pf\n",
      "import fitsio \n",
      "%matplotlib inline\n",
      "\n",
      "from pybls.bls import BLS\n",
      "\n",
      "ddir = '/home/ben/Data/kepler/'\n",
      "\n",
      "fname = 'C00_lightcurves_ext04.fits'\n",
      "\n",
      "objid = 80\n",
      "filename = ddir+fname"
     ],
     "language": "python",
     "metadata": {},
     "outputs": [],
     "prompt_number": 1
    },
    {
     "cell_type": "code",
     "collapsed": false,
     "input": [
      "f= fitsio.FITS(filename,'r')"
     ],
     "language": "python",
     "metadata": {},
     "outputs": [],
     "prompt_number": 2
    },
    {
     "cell_type": "code",
     "collapsed": false,
     "input": [
      "f1 = f[1]"
     ],
     "language": "python",
     "metadata": {},
     "outputs": [],
     "prompt_number": 3
    },
    {
     "cell_type": "code",
     "collapsed": false,
     "input": [
      "d = f1['medflux','flux','xlc','ylc','nchisq','pointer','flux_corr_roll'][:]\n",
      "objids = d['pointer'].flatten()\n",
      "i_obj = np.where(objids==objid)[0][0]\n",
      "print i_obj"
     ],
     "language": "python",
     "metadata": {},
     "outputs": [
      {
       "output_type": "stream",
       "stream": "stdout",
       "text": [
        "79\n"
       ]
      }
     ],
     "prompt_number": 8
    },
    {
     "cell_type": "code",
     "collapsed": false,
     "input": [
      "hdr = f1.read_header()\n",
      "t0 = hdr['MJDBASE']\n",
      "n_obs = hdr['NMEAS']\n",
      "n_obj = hdr['NROWMAST']\n",
      "\n",
      "time = np.zeros(n_obs) + t0\n",
      "for i in np.arange(n_obs):\n",
      "    time[i] += hdr['TV%d' % (i+1)]\n",
      "    \n",
      "print n_obs, time.shape"
     ],
     "language": "python",
     "metadata": {},
     "outputs": [
      {
       "output_type": "stream",
       "stream": "stdout",
       "text": [
        "2262 (2262,)\n"
       ]
      }
     ],
     "prompt_number": 13
    },
    {
     "cell_type": "code",
     "collapsed": false,
     "input": [
      "flux = d['flux_corr_roll'][i_obj,:]\n",
      "flux2 = flux.copy()\n",
      "print flux.shape, time.shape\n",
      "flux = flux[np.isfinite(flux2)]\n",
      "time = time[np.isfinite(flux2)]\n",
      "print flux.shape, time.shape\n"
     ],
     "language": "python",
     "metadata": {},
     "outputs": [
      {
       "output_type": "stream",
       "stream": "stdout",
       "text": [
        "(2262,) (2262,)\n",
        "(1759,) (1759,)\n"
       ]
      }
     ],
     "prompt_number": 14
    },
    {
     "cell_type": "code",
     "collapsed": false,
     "input": [
      "plt.plot(time-56728,flux,'.k')"
     ],
     "language": "python",
     "metadata": {},
     "outputs": [
      {
       "metadata": {},
       "output_type": "pyout",
       "prompt_number": 16,
       "text": [
        "[<matplotlib.lines.Line2D at 0x7f414cf31c50>]"
       ]
      },
      {
       "metadata": {},
       "output_type": "display_data",
       "png": "[encoded data removed]",
       "text": [
        "<matplotlib.figure.Figure at 0x7f414e098b90>"
       ]
      }
     ],
     "prompt_number": 16
    },
    {
     "cell_type": "code",
     "collapsed": false,
     "input": [
      "error = 0.0001*np.ones_like(flux)\n",
      "bls = BLS(time, -flux, error, period_range=(1,10), q_range=(0.001, 0.01), nf=4500, nbin=1000)\n",
      "bls()"
     ],
     "language": "python",
     "metadata": {},
     "outputs": [
      {
       "metadata": {},
       "output_type": "pyout",
       "prompt_number": 25,
       "text": [
        "<pybls.bls.BLSResult at 0x7f414cc5b990>"
       ]
      }
     ],
     "prompt_number": 25
    },
    {
     "cell_type": "code",
     "collapsed": false,
     "input": [
      "plt.plot(bls.period , bls.sde)"
     ],
     "language": "python",
     "metadata": {},
     "outputs": [
      {
       "metadata": {},
       "output_type": "pyout",
       "prompt_number": 26,
       "text": [
        "[<matplotlib.lines.Line2D at 0x7f414d9d5790>]"
       ]
      },
      {
       "metadata": {},
       "output_type": "display_data",
       "png": "[encoded data removed]",
       "text": [
        "<matplotlib.figure.Figure at 0x7f414caeb050>"
       ]
      }
     ],
     "prompt_number": 26
    },
    {
     "cell_type": "code",
     "collapsed": false,
     "input": [
      "time.shape"
     ],
     "language": "python",
     "metadata": {},
     "outputs": [
      {
       "metadata": {},
       "output_type": "pyout",
       "prompt_number": 97,
       "text": [
        "(126,)"
       ]
      }
     ],
     "prompt_number": 97
    },
    {
     "cell_type": "code",
     "collapsed": false,
     "input": [],
     "language": "python",
     "metadata": {},
     "outputs": []
    }
   ],
   "metadata": {}
  }
 ]
}