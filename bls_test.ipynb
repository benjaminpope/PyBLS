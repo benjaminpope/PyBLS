{
 "metadata": {
  "name": "",
  "signature": "sha256:962de7371b7e79fa7b12079d2c96669580a8ab99e8b923af6e3a8ba9ab87994d"
 },
 "nbformat": 3,
 "nbformat_minor": 0,
 "worksheets": [
  {
   "cells": [
    {
     "cell_type": "code",
     "collapsed": false,
     "input": [
      "import numpy as np \n",
      "import matplotlib.pyplot as plt\n",
      "import pyfits as pf\n",
      "import fitsio \n",
      "%matplotlib inline\n",
      "\n",
      "from pybls.bls import BLS\n",
      "\n",
      "ddir = '/home/ben/Data/kepler/'\n",
      "\n",
      "fname = 'C00_lightcurves_ext04.fits'\n",
      "\n",
      "objid = 80\n",
      "filename = ddir+fname"
     ],
     "language": "python",
     "metadata": {},
     "outputs": [],
     "prompt_number": 1
    },
    {
     "cell_type": "code",
     "collapsed": false,
     "input": [
      "f= fitsio.FITS(filename,'r')"
     ],
     "language": "python",
     "metadata": {},
     "outputs": [],
     "prompt_number": 2
    },
    {
     "cell_type": "code",
     "collapsed": false,
     "input": [
      "f1 = f[1]"
     ],
     "language": "python",
     "metadata": {},
     "outputs": [],
     "prompt_number": 3
    },
    {
     "cell_type": "code",
     "collapsed": false,
     "input": [
      "d = f1['medflux','flux','xlc','ylc','nchisq','pointer','flux_corr_roll','model_tot_roll'][:]\n",
      "objids = d['pointer'].flatten()\n",
      "i_obj = np.where(objids==objid)[0][0]"
     ],
     "language": "python",
     "metadata": {},
     "outputs": [],
     "prompt_number": 4
    },
    {
     "cell_type": "code",
     "collapsed": false,
     "input": [
      "hdr = f1.read_header()\n",
      "t0 = hdr['MJDBASE']\n",
      "n_obs = hdr['NMEAS']\n",
      "n_obj = hdr['NROWMAST']\n",
      "\n",
      "time = np.zeros(n_obs) + t0\n",
      "for i in np.arange(n_obs):\n",
      "    time[i] += hdr['TV%d' % (i+1)]"
     ],
     "language": "python",
     "metadata": {},
     "outputs": [],
     "prompt_number": 5
    },
    {
     "cell_type": "code",
     "collapsed": false,
     "input": [
      "flux = d['flux_corr_roll'][i_obj,:]\n",
      "gpfit = d['model_tot_roll'][i_obj,:]\n",
      "flux -= gpfit\n",
      "flux2 = flux.copy()\n",
      "flux = flux[np.isfinite(flux2)]\n",
      "time = time[np.isfinite(flux2)]"
     ],
     "language": "python",
     "metadata": {},
     "outputs": [],
     "prompt_number": 6
    },
    {
     "cell_type": "code",
     "collapsed": false,
     "input": [
      "plt.plot(time-56728,2.5**(-flux),'.k')\n",
      "plt.xlabel('Time (MJD - 56728)')\n",
      "plt.ylabel('Flux (mag)')"
     ],
     "language": "python",
     "metadata": {},
     "outputs": [
      {
       "metadata": {},
       "output_type": "pyout",
       "prompt_number": 7,
       "text": [
        "<matplotlib.text.Text at 0x7fbd04693d50>"
       ]
      },
      {
       "metadata": {},
       "output_type": "display_data",
       "png": "[encoded data removed]",
       "text": [
        "<matplotlib.figure.Figure at 0x7fbd06a4cad0>"
       ]
      }
     ],
     "prompt_number": 7
    },
    {
     "cell_type": "code",
     "collapsed": false,
     "input": [
      "error = 0.0001*np.ones_like(flux)\n",
      "bls = BLS(time, -flux, error, period_range=(1,10), q_range=(0.001, 0.01), nf=3000, nbin=500)"
     ],
     "language": "python",
     "metadata": {},
     "outputs": [],
     "prompt_number": 8
    },
    {
     "cell_type": "code",
     "collapsed": false,
     "input": [
      "bls()"
     ],
     "language": "python",
     "metadata": {},
     "outputs": [
      {
       "metadata": {},
       "output_type": "pyout",
       "prompt_number": 9,
       "text": [
        "<pybls.bls.BLSResult at 0x7fbd0556f350>"
       ]
      }
     ],
     "prompt_number": 9
    },
    {
     "cell_type": "code",
     "collapsed": false,
     "input": [
      "plt.plot(bls.period , bls.sde)\n",
      "plt.xlabel('Period (days)')\n",
      "plt.ylabel('Signal')"
     ],
     "language": "python",
     "metadata": {},
     "outputs": [
      {
       "metadata": {},
       "output_type": "pyout",
       "prompt_number": 10,
       "text": [
        "<matplotlib.text.Text at 0x7fbd2409fc10>"
       ]
      },
      {
       "metadata": {},
       "output_type": "display_data",
       "png": "[encoded data removed]",
       "text": [
        "<matplotlib.figure.Figure at 0x7fbd0556f390>"
       ]
      }
     ],
     "prompt_number": 10
    },
    {
     "cell_type": "code",
     "collapsed": false,
     "input": [
      "# 7 or 8 is interesting\n",
      "\n",
      "bls.result.bsde"
     ],
     "language": "python",
     "metadata": {},
     "outputs": [
      {
       "metadata": {},
       "output_type": "pyout",
       "prompt_number": 11,
       "text": [
        "12.179650672638966"
       ]
      }
     ],
     "prompt_number": 11
    },
    {
     "cell_type": "code",
     "collapsed": false,
     "input": [
      "bls.result.bper"
     ],
     "language": "python",
     "metadata": {},
     "outputs": [
      {
       "metadata": {},
       "output_type": "pyout",
       "prompt_number": 14,
       "text": [
        "6.191950464396284"
       ]
      }
     ],
     "prompt_number": 14
    },
    {
     "cell_type": "code",
     "collapsed": false,
     "input": [],
     "language": "python",
     "metadata": {},
     "outputs": []
    }
   ],
   "metadata": {}
  }
 ]
}